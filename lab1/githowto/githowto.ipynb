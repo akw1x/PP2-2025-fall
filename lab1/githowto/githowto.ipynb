{
 "cells": [
  {
   "cell_type": "markdown",
   "metadata": {},
   "source": [
    "![1. Git credentials](screenshots/Git_credentials.png)\n",
    "\n",
    "![2. Creating a project](screenshots/Creating_a_project.png)\n",
    "\n",
    "![3. Checking the status of the repository](screenshots/Checking_the_status_of_the_repository.png)\n",
    "\n",
    "![4. Making changes](sreenshots/Making_changes.png)\n",
    "\n",
    "![5. Staging the changes](screenshots/Staging_the_changes.png)\n",
    "\n",
    "![6. Staging and committing](screenshots/Staging_and_committing.png)\n",
    "\n",
    "![7. Committing the changes](screenshots/Committing_the_changes.png)\n",
    "\n",
    "![8. Changes, not files](screenshots/Changes_not_files.png)\n",
    "\n",
    "![9. History](screenshots/History.png)\n",
    "\n",
    "![10. Getting older versions](screenshots/Getting_older_versions.png)\n",
    "\n",
    "![11. Tagging versions](screenshots/Tagging_versions.png)\n",
    "\n",
    "![12. Discarding local changes (before staging)](screenshots/Discarding%20_local_changes_(before_staging).png)\n",
    "\n",
    "![13. Cancel staged changes (before committing)](screenshots/Cancel_staged_changes_(before_committing).png)\n"
   ]
  }
 ],
 "metadata": {
  "language_info": {
   "name": "python"
  }
 },
 "nbformat": 4,
 "nbformat_minor": 2
}
